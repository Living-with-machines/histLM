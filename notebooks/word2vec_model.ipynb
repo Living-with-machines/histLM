{
 "cells": [
  {
   "cell_type": "markdown",
   "id": "8834f94a",
   "metadata": {},
   "source": [
    "# word2vec model\n",
    "\n",
    "A simple notebook to:\n",
    "- Read a pretrained word2vec model\n",
    "- Examples on how to do the task of finding similar words"
   ]
  },
  {
   "cell_type": "code",
   "execution_count": 1,
   "id": "c62c897d",
   "metadata": {},
   "outputs": [],
   "source": [
    "from gensim.models import Word2Vec"
   ]
  },
  {
   "cell_type": "code",
   "execution_count": 2,
   "id": "f599da10",
   "metadata": {},
   "outputs": [],
   "source": [
    "# --- INPUTS\n",
    "\n",
    "# path2model can be set to:\n",
    "#    \"../histLM_dataset/word2vec/w2v_1760_1850/w2v_words.model\"\n",
    "#    \"../histLM_dataset/word2vec/w2v_1760_1900/w2v_words.model\"\n",
    "path2model = \"../histLM_dataset/word2vec/w2v_1760_1900/w2v_words.model\""
   ]
  },
  {
   "cell_type": "code",
   "execution_count": 3,
   "id": "5e1166d5",
   "metadata": {},
   "outputs": [],
   "source": [
    "# Read a word2vec model\n",
    "model = Word2Vec.load(path2model)"
   ]
  },
  {
   "cell_type": "code",
   "execution_count": 4,
   "id": "487ea00e",
   "metadata": {},
   "outputs": [
    {
     "name": "stdout",
     "output_type": "stream",
     "text": [
      "[('machines', 0.7792686820030212), ('machinery', 0.7629484534263611), ('engine', 0.727625846862793), ('steam-engine', 0.7088614702224731), ('engines', 0.6519815921783447), ('water-pressure', 0.6468381285667419), ('threshing-machine', 0.644723117351532), ('block-making', 0.6427738666534424), ('apparatus', 0.6412078142166138), ('machineiy', 0.6396113634109497)]\n"
     ]
    }
   ],
   "source": [
    "sims = model.wv.most_similar('machine', topn=10)\n",
    "print(sims)"
   ]
  },
  {
   "cell_type": "code",
   "execution_count": 5,
   "id": "d5dabe93",
   "metadata": {},
   "outputs": [
    {
     "name": "stdout",
     "output_type": "stream",
     "text": [
      "machines             -- 0.779\n",
      "machinery            -- 0.763\n",
      "engine               -- 0.728\n",
      "steam-engine         -- 0.709\n",
      "engines              -- 0.652\n",
      "water-pressure       -- 0.647\n",
      "threshing-machine    -- 0.645\n",
      "block-making         -- 0.643\n",
      "apparatus            -- 0.641\n",
      "machineiy            -- 0.640\n"
     ]
    }
   ],
   "source": [
    "for one_word in sims:\n",
    "    print(f\"{one_word[0]:<20} -- {one_word[1]:.3f}\")"
   ]
  },
  {
   "cell_type": "code",
   "execution_count": null,
   "id": "1a9fd52f",
   "metadata": {},
   "outputs": [],
   "source": []
  }
 ],
 "metadata": {
  "kernelspec": {
   "display_name": "Python (py38_histLM)",
   "language": "python",
   "name": "py38_histlm"
  },
  "language_info": {
   "codemirror_mode": {
    "name": "ipython",
    "version": 3
   },
   "file_extension": ".py",
   "mimetype": "text/x-python",
   "name": "python",
   "nbconvert_exporter": "python",
   "pygments_lexer": "ipython3",
   "version": "3.8.10"
  }
 },
 "nbformat": 4,
 "nbformat_minor": 5
}
