{
 "cells": [
  {
   "cell_type": "markdown",
   "id": "8834f94a",
   "metadata": {},
   "source": [
    "# fastText model\n",
    "\n",
    "A simple notebook to:\n",
    "- Read a pretrained fastText model\n",
    "- Examples on how to do the task of finding similar words"
   ]
  },
  {
   "cell_type": "code",
   "execution_count": 1,
   "id": "c62c897d",
   "metadata": {},
   "outputs": [],
   "source": [
    "import os\n",
    "from gensim.models import FastText"
   ]
  },
  {
   "cell_type": "code",
   "execution_count": 2,
   "id": "f599da10",
   "metadata": {},
   "outputs": [],
   "source": [
    "# --- INPUTS\n",
    "\n",
    "# path2model can be set to:\n",
    "#    os.path.join(os.pardir, \"histLM_dataset\", \"fasttext\", \"ft_1760_1850\", \"fasttext_words.model\")\n",
    "#    os.path.join(os.pardir, \"histLM_dataset\", \"fasttext\", \"ft_1760_1900\", \"fasttext_words.model\")\n",
    "path2model = os.path.join(os.pardir, \"histLM_dataset\", \"fasttext\", \"ft_1760_1900\", \"fasttext_words.model\")"
   ]
  },
  {
   "cell_type": "code",
   "execution_count": 3,
   "id": "5e1166d5",
   "metadata": {},
   "outputs": [],
   "source": [
    "# Read a fastText model\n",
    "model = FastText.load(path2model)"
   ]
  },
  {
   "cell_type": "code",
   "execution_count": 4,
   "id": "487ea00e",
   "metadata": {},
   "outputs": [
    {
     "name": "stdout",
     "output_type": "stream",
     "text": [
      "[('machiner', 0.9164908528327942), ('machineiy', 0.9114788174629211), ('machined', 0.9072287082672119), ('machinery7', 0.8947433829307556), ('machines', 0.8870446681976318), ('machinerv', 0.8809642791748047), ('machinery', 0.8802279233932495), ('machinery-', 0.8793637752532959), ('machinerys', 0.8775567412376404), ('machiners', 0.8639712333679199)]\n"
     ]
    }
   ],
   "source": [
    "sims = model.wv.most_similar('machine', topn=10)\n",
    "print(sims)"
   ]
  },
  {
   "cell_type": "code",
   "execution_count": 5,
   "id": "d5dabe93",
   "metadata": {},
   "outputs": [
    {
     "name": "stdout",
     "output_type": "stream",
     "text": [
      "machiner             -- 0.916\n",
      "machineiy            -- 0.911\n",
      "machined             -- 0.907\n",
      "machinery7           -- 0.895\n",
      "machines             -- 0.887\n",
      "machinerv            -- 0.881\n",
      "machinery            -- 0.880\n",
      "machinery-           -- 0.879\n",
      "machinerys           -- 0.878\n",
      "machiners            -- 0.864\n"
     ]
    }
   ],
   "source": [
    "for one_word in sims:\n",
    "    print(f\"{one_word[0]:<20} -- {one_word[1]:.3f}\")"
   ]
  },
  {
   "cell_type": "code",
   "execution_count": null,
   "id": "3873069d",
   "metadata": {},
   "outputs": [],
   "source": []
  }
 ],
 "metadata": {
  "kernelspec": {
   "display_name": "Python (py38_histLM)",
   "language": "python",
   "name": "py38_histlm"
  },
  "language_info": {
   "codemirror_mode": {
    "name": "ipython",
    "version": 3
   },
   "file_extension": ".py",
   "mimetype": "text/x-python",
   "name": "python",
   "nbconvert_exporter": "python",
   "pygments_lexer": "ipython3",
   "version": "3.8.11"
  }
 },
 "nbformat": 4,
 "nbformat_minor": 5
}
