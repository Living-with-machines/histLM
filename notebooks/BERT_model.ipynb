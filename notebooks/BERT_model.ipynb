{
 "cells": [
  {
   "cell_type": "markdown",
   "id": "03ecc7d6",
   "metadata": {},
   "source": [
    "# BERT model\n",
    "\n",
    "A simple notebook to:\n",
    "- Read one of the pretrained BERT models\n",
    "- Examples on how to do the task of \"fill-mask\""
   ]
  },
  {
   "cell_type": "code",
   "execution_count": 1,
   "id": "6da5a272",
   "metadata": {},
   "outputs": [],
   "source": [
    "from transformers import pipeline"
   ]
  },
  {
   "cell_type": "code",
   "execution_count": 2,
   "id": "e2f92f38",
   "metadata": {},
   "outputs": [],
   "source": [
    "# --- INPUTS\n",
    "\n",
    "# path2model can be set to:\n",
    "#    \"bert-base-uncased\"\n",
    "#     or path to one of the models in histLM_dataset, e.g.\n",
    "#         \"../histLM_dataset/bert/bert_1760_1850\"\n",
    "#         \"../histLM_dataset/bert/bert_1850_1875\"\n",
    "#         \"../histLM_dataset/bert/bert_1875_1890\"\n",
    "#         \"../histLM_dataset/bert/bert_1890_1900\"\n",
    "#         \"../histLM_dataset/bert/bert_1760_1900\"\n",
    "path2model = \"../histLM_dataset/bert/bert_1760_1900\"\n",
    "tokenizer = \"bert-base-uncased\""
   ]
  },
  {
   "cell_type": "code",
   "execution_count": 3,
   "id": "7c3e8d97",
   "metadata": {},
   "outputs": [],
   "source": [
    "# Create a pipeline, see transformers repo for details\n",
    "model_rd = pipeline(\"fill-mask\", \n",
    "                    model=path2model, \n",
    "                    tokenizer=tokenizer)"
   ]
  },
  {
   "cell_type": "code",
   "execution_count": 4,
   "id": "9a56b512",
   "metadata": {},
   "outputs": [],
   "source": [
    "# Example sentence which has token [MASK]\n",
    "mysent = \"They were told that the [MASK] stopped working.\""
   ]
  },
  {
   "cell_type": "code",
   "execution_count": 5,
   "id": "a617228f",
   "metadata": {},
   "outputs": [
    {
     "name": "stdout",
     "output_type": "stream",
     "text": [
      "[{'sequence': 'they were told that the mill stopped working.', 'score': 0.2522742748260498, 'token': 4971, 'token_str': 'mill'}, {'sequence': 'they were told that the engine stopped working.', 'score': 0.08471374213695526, 'token': 3194, 'token_str': 'engine'}, {'sequence': 'they were told that the machine stopped working.', 'score': 0.05655306577682495, 'token': 3698, 'token_str': 'machine'}, {'sequence': 'they were told that the men stopped working.', 'score': 0.04484018310904503, 'token': 2273, 'token_str': 'men'}, {'sequence': 'they were told that the miners stopped working.', 'score': 0.03542417287826538, 'token': 11257, 'token_str': 'miners'}]\n"
     ]
    }
   ],
   "source": [
    "output = model_rd(mysent)\n",
    "print(output)"
   ]
  },
  {
   "cell_type": "code",
   "execution_count": 6,
   "id": "0e8868b9",
   "metadata": {},
   "outputs": [
    {
     "name": "stdout",
     "output_type": "stream",
     "text": [
      "mill                 | they were told that the mill stopped working.\n",
      "engine               | they were told that the engine stopped working.\n",
      "machine              | they were told that the machine stopped working.\n",
      "men                  | they were told that the men stopped working.\n",
      "miners               | they were told that the miners stopped working.\n"
     ]
    }
   ],
   "source": [
    "for one_output in output:\n",
    "    print(f\"{one_output['token_str']:<20} | {one_output['sequence']}\")"
   ]
  },
  {
   "cell_type": "code",
   "execution_count": null,
   "id": "cfe72f7b",
   "metadata": {},
   "outputs": [],
   "source": []
  }
 ],
 "metadata": {
  "kernelspec": {
   "display_name": "Python (py38_histLM)",
   "language": "python",
   "name": "py38_histlm"
  },
  "language_info": {
   "codemirror_mode": {
    "name": "ipython",
    "version": 3
   },
   "file_extension": ".py",
   "mimetype": "text/x-python",
   "name": "python",
   "nbconvert_exporter": "python",
   "pygments_lexer": "ipython3",
   "version": "3.8.10"
  }
 },
 "nbformat": 4,
 "nbformat_minor": 5
}
