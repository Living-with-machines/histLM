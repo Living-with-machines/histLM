{
 "cells": [
  {
   "cell_type": "markdown",
   "id": "8834f94a",
   "metadata": {},
   "source": [
    "# Flair model\n",
    "\n",
    "A simple notebook to:\n",
    "- Read a pretrained Flair model\n",
    "- Examples on how to do the task of generating text"
   ]
  },
  {
   "cell_type": "code",
   "execution_count": 1,
   "id": "c62c897d",
   "metadata": {},
   "outputs": [],
   "source": [
    "from flair.embeddings import FlairEmbeddings\n",
    "from flair.data import Sentence\n",
    "\n",
    "import flair, torch\n",
    "flair.device = torch.device('cpu') "
   ]
  },
  {
   "cell_type": "code",
   "execution_count": 2,
   "id": "f599da10",
   "metadata": {},
   "outputs": [],
   "source": [
    "# --- INPUTS\n",
    "\n",
    "# path2model can be set to:\n",
    "#    \"../histLM_dataset/flair/flair_1760_1900/best-lm.pt\"\n",
    "path2model = \"../histLM_dataset/flair/flair_1760_1900/best-lm.pt\""
   ]
  },
  {
   "cell_type": "code",
   "execution_count": 3,
   "id": "5e1166d5",
   "metadata": {},
   "outputs": [],
   "source": [
    "# Read language model\n",
    "language_model = FlairEmbeddings(path2model)"
   ]
  },
  {
   "cell_type": "code",
   "execution_count": 4,
   "id": "69619537",
   "metadata": {},
   "outputs": [],
   "source": [
    "# Example sentence which has token [MASK]\n",
    "mysent = \"They were told that the [MASK] stopped working.\""
   ]
  },
  {
   "cell_type": "code",
   "execution_count": 5,
   "id": "34260c16",
   "metadata": {},
   "outputs": [
    {
     "data": {
      "text/plain": [
       "[Sentence: \"They were told that the [ MASK ] stopped working .\"   [− Tokens: 11]]"
      ]
     },
     "execution_count": 5,
     "metadata": {},
     "output_type": "execute_result"
    }
   ],
   "source": [
    "flair_sentence = Sentence(mysent)\n",
    "language_model.embed(flair_sentence)"
   ]
  },
  {
   "cell_type": "code",
   "execution_count": 6,
   "id": "b472d094",
   "metadata": {},
   "outputs": [
    {
     "name": "stdout",
     "output_type": "stream",
     "text": [
      "Token: 1 They\n",
      "tensor([ 0.0051, -0.0005, -0.0168,  ...,  0.0135,  0.0080, -0.0082])\n",
      "Token: 2 were\n",
      "tensor([ 1.9208e-03, -8.2278e-05, -5.5975e-02,  ...,  1.7667e-02,\n",
      "        -3.0257e-03, -5.0397e-04])\n",
      "Token: 3 told\n",
      "tensor([-4.2937e-02, -9.1127e-05, -4.2566e-02,  ..., -3.7135e-02,\n",
      "         6.9754e-04, -2.6254e-03])\n",
      "Token: 4 that\n",
      "tensor([-6.7677e-02, -4.9359e-05, -1.6307e-03,  ..., -2.8282e-02,\n",
      "         5.6025e-02,  1.3636e-04])\n",
      "Token: 5 the\n",
      "tensor([ 0.0031, -0.0019, -0.0213,  ..., -0.0202,  0.0213, -0.0004])\n",
      "Token: 6 [\n",
      "tensor([-0.0279, -0.0016, -0.0147,  ..., -0.0897, -0.0656,  0.0002])\n",
      "Token: 7 MASK\n",
      "tensor([-9.3989e-03, -3.7500e-05,  1.0471e-02,  ..., -3.1248e-02,\n",
      "        -5.5736e-02,  5.0478e-04])\n",
      "Token: 8 ]\n",
      "tensor([ 7.2111e-03, -3.3496e-04, -9.4604e-03,  ..., -9.4257e-03,\n",
      "        -6.6297e-02,  4.5420e-05])\n",
      "Token: 9 stopped\n",
      "tensor([-0.0025, -0.0114,  0.0026,  ...,  0.0273, -0.0259, -0.0019])\n",
      "Token: 10 working\n",
      "tensor([-0.0033,  0.0003, -0.0203,  ...,  0.0213,  0.1101,  0.0003])\n",
      "Token: 11 .\n",
      "tensor([ 4.7313e-03, -8.0535e-05,  7.2273e-04,  ...,  4.0372e-03,\n",
      "        -1.0141e-02, -5.8394e-07])\n"
     ]
    }
   ],
   "source": [
    "# now check out the embedded tokens.\n",
    "for token in flair_sentence:\n",
    "    print(token)\n",
    "    print(token.embedding)"
   ]
  },
  {
   "cell_type": "code",
   "execution_count": 7,
   "id": "fe911841",
   "metadata": {},
   "outputs": [
    {
     "name": "stdout",
     "output_type": "stream",
     "text": [
      "('They were told that the engine stopped working at a few hours but in striking accounts for having repaired to them the commander might send him to the capital .\\nThe edge of the ravine a beautiful elevain obliterating known as mine Hist .\\nHis eye-glass most inhabitants who frequent the shore of the Neva in the sea coast in the valleys which form the streams of Lucys hut are brooding as if they were gradually up birth .\\nBefore me I have witnessed such a sudden flash of lightning and such a light on the star tower that it may not have long sinc', 18.13060546875)\n"
     ]
    }
   ],
   "source": [
    "print(language_model.lm.generate_text(\"They were told that the engine stopped working \", \n",
    "                                      number_of_characters=500))"
   ]
  },
  {
   "cell_type": "code",
   "execution_count": null,
   "id": "a4335361",
   "metadata": {},
   "outputs": [],
   "source": []
  }
 ],
 "metadata": {
  "kernelspec": {
   "display_name": "Python (py38_histLM)",
   "language": "python",
   "name": "py38_histlm"
  },
  "language_info": {
   "codemirror_mode": {
    "name": "ipython",
    "version": 3
   },
   "file_extension": ".py",
   "mimetype": "text/x-python",
   "name": "python",
   "nbconvert_exporter": "python",
   "pygments_lexer": "ipython3",
   "version": "3.8.10"
  }
 },
 "nbformat": 4,
 "nbformat_minor": 5
}
