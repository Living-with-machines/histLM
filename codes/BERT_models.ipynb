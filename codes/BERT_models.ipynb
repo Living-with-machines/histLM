{
 "cells": [
  {
   "cell_type": "markdown",
   "id": "8834f94a",
   "metadata": {},
   "source": [
    "# BERT models\n",
    "\n",
    "A simple notebook to:\n",
    "- Read one of the pretrained BERT models\n",
    "- Examples on how to do the task of \"fill-mask\""
   ]
  },
  {
   "cell_type": "code",
   "execution_count": null,
   "id": "c62c897d",
   "metadata": {},
   "outputs": [],
   "source": [
    "from transformers import pipeline"
   ]
  },
  {
   "cell_type": "code",
   "execution_count": null,
   "id": "f599da10",
   "metadata": {},
   "outputs": [],
   "source": [
    "# --- INPUTS\n",
    "\n",
    "# path2model can be set to:\n",
    "#    \"bert-base-uncased\"\n",
    "#     or path to one of the models in histLM_dataset, e.g.\n",
    "#         \"../histLM_dataset/bert/bert_1760_1850\"\n",
    "#         \"../histLM_dataset/bert/bert_1850_1875\"\n",
    "#         \"../histLM_dataset/bert/bert_1875_1890\"\n",
    "#         \"../histLM_dataset/bert/bert_1890_1900\"\n",
    "#         \"../histLM_dataset/bert/bert_1760_1900\"\n",
    "path2model = \"../histLM_dataset/bert/bert_1760_1900\"\n",
    "tokenizer = \"bert-base-uncased\""
   ]
  },
  {
   "cell_type": "code",
   "execution_count": null,
   "id": "a83dc4bb",
   "metadata": {},
   "outputs": [],
   "source": [
    "# Create a pipeline, see transformers repo for details\n",
    "model_rd = pipeline(\"fill-mask\", \n",
    "                    model=path2model, \n",
    "                    tokenizer=tokenizer)"
   ]
  },
  {
   "cell_type": "code",
   "execution_count": null,
   "id": "69619537",
   "metadata": {},
   "outputs": [],
   "source": [
    "# Example sentence which has token [MASK]\n",
    "mysent = \"They were told that the [MASK] stopped working.\""
   ]
  },
  {
   "cell_type": "code",
   "execution_count": null,
   "id": "f0b7389e",
   "metadata": {},
   "outputs": [],
   "source": [
    "output = model_rd(mysent)\n",
    "print(output)"
   ]
  },
  {
   "cell_type": "code",
   "execution_count": null,
   "id": "6bab6d11",
   "metadata": {},
   "outputs": [],
   "source": [
    "for one_output in output:\n",
    "    print(f\"{one_output['token_str']:<20} | {one_output['sequence']}\")"
   ]
  },
  {
   "cell_type": "code",
   "execution_count": null,
   "id": "7bdc1dc6",
   "metadata": {},
   "outputs": [],
   "source": []
  }
 ],
 "metadata": {
  "kernelspec": {
   "display_name": "Python (py38_histLM)",
   "language": "python",
   "name": "py38_histlm"
  },
  "language_info": {
   "codemirror_mode": {
    "name": "ipython",
    "version": 3
   },
   "file_extension": ".py",
   "mimetype": "text/x-python",
   "name": "python",
   "nbconvert_exporter": "python",
   "pygments_lexer": "ipython3",
   "version": "3.8.10"
  }
 },
 "nbformat": 4,
 "nbformat_minor": 5
}
