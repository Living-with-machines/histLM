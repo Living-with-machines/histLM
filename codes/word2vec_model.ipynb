{
 "cells": [
  {
   "cell_type": "markdown",
   "id": "8834f94a",
   "metadata": {},
   "source": [
    "# word2vec model\n",
    "\n",
    "A simple notebook to:\n",
    "- Read a pretrained word2vec model\n",
    "- Examples on how to do the task of finding similar words"
   ]
  },
  {
   "cell_type": "code",
   "execution_count": null,
   "id": "c62c897d",
   "metadata": {},
   "outputs": [],
   "source": [
    "from gensim.models import Word2Vec"
   ]
  },
  {
   "cell_type": "code",
   "execution_count": null,
   "id": "f599da10",
   "metadata": {},
   "outputs": [],
   "source": [
    "# --- INPUTS\n",
    "\n",
    "# path2model can be set to:\n",
    "#    \"../histLM_dataset/word2vec/w2v_1760_1850/w2v_words.model\"\n",
    "#    \"../histLM_dataset/word2vec/w2v_1760_1900/w2v_words.model\"\n",
    "path2model = \"../histLM_dataset/word2vec/w2v_1760_1900/w2v_words.model\""
   ]
  },
  {
   "cell_type": "code",
   "execution_count": null,
   "id": "5e1166d5",
   "metadata": {},
   "outputs": [],
   "source": [
    "# Read a word2vec model\n",
    "model = Word2Vec.load(path2model)"
   ]
  },
  {
   "cell_type": "code",
   "execution_count": null,
   "id": "487ea00e",
   "metadata": {},
   "outputs": [],
   "source": [
    "sims = model.wv.most_similar('machine', topn=10)\n",
    "print(sims)"
   ]
  },
  {
   "cell_type": "code",
   "execution_count": null,
   "id": "d5dabe93",
   "metadata": {},
   "outputs": [],
   "source": [
    "for one_word in sims:\n",
    "    print(f\"{one_word[0]:<20} -- {one_word[1]:.3f}\")"
   ]
  }
 ],
 "metadata": {
  "kernelspec": {
   "display_name": "Python (py38_histLM)",
   "language": "python",
   "name": "py38_histlm"
  },
  "language_info": {
   "codemirror_mode": {
    "name": "ipython",
    "version": 3
   },
   "file_extension": ".py",
   "mimetype": "text/x-python",
   "name": "python",
   "nbconvert_exporter": "python",
   "pygments_lexer": "ipython3",
   "version": "3.8.10"
  }
 },
 "nbformat": 4,
 "nbformat_minor": 5
}
