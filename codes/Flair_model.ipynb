{
 "cells": [
  {
   "cell_type": "markdown",
   "id": "8834f94a",
   "metadata": {},
   "source": [
    "# Flair model\n",
    "\n",
    "A simple notebook to:\n",
    "- Read a pretrained Flair model\n",
    "- Examples on how to do the task of generating text"
   ]
  },
  {
   "cell_type": "code",
   "execution_count": null,
   "id": "c62c897d",
   "metadata": {},
   "outputs": [],
   "source": [
    "from flair.embeddings import FlairEmbeddings\n",
    "from flair.data import Sentence\n",
    "\n",
    "import flair, torch\n",
    "flair.device = torch.device('cpu') "
   ]
  },
  {
   "cell_type": "code",
   "execution_count": null,
   "id": "f599da10",
   "metadata": {},
   "outputs": [],
   "source": [
    "# --- INPUTS\n",
    "\n",
    "# path2model can be set to:\n",
    "#    \"../histLM_dataset/flair/flair_1760_1900/best-lm.pt\"\n",
    "path2model = \"../histLM_dataset/flair/flair_1760_1900/best-lm.pt\""
   ]
  },
  {
   "cell_type": "code",
   "execution_count": null,
   "id": "5e1166d5",
   "metadata": {},
   "outputs": [],
   "source": [
    "# Read language model\n",
    "language_model = FlairEmbeddings(path2model)"
   ]
  },
  {
   "cell_type": "code",
   "execution_count": null,
   "id": "69619537",
   "metadata": {},
   "outputs": [],
   "source": [
    "# Example sentence which has token [MASK]\n",
    "mysent = \"They were told that the [MASK] stopped working.\""
   ]
  },
  {
   "cell_type": "code",
   "execution_count": null,
   "id": "34260c16",
   "metadata": {},
   "outputs": [],
   "source": [
    "flair_sentence = Sentence(mysent)\n",
    "language_model.embed(flair_sentence)"
   ]
  },
  {
   "cell_type": "code",
   "execution_count": null,
   "id": "b472d094",
   "metadata": {},
   "outputs": [],
   "source": [
    "# now check out the embedded tokens.\n",
    "for token in flair_sentence:\n",
    "    print(token)\n",
    "    print(token.embedding)"
   ]
  },
  {
   "cell_type": "code",
   "execution_count": null,
   "id": "fe911841",
   "metadata": {},
   "outputs": [],
   "source": [
    "print(language_model.lm.generate_text(\"They were told that the engine stopped working \", \n",
    "                                      number_of_characters=500))"
   ]
  },
  {
   "cell_type": "code",
   "execution_count": null,
   "id": "a4335361",
   "metadata": {},
   "outputs": [],
   "source": []
  }
 ],
 "metadata": {
  "kernelspec": {
   "display_name": "Python (py38_histLM)",
   "language": "python",
   "name": "py38_histlm"
  },
  "language_info": {
   "codemirror_mode": {
    "name": "ipython",
    "version": 3
   },
   "file_extension": ".py",
   "mimetype": "text/x-python",
   "name": "python",
   "nbconvert_exporter": "python",
   "pygments_lexer": "ipython3",
   "version": "3.8.10"
  }
 },
 "nbformat": 4,
 "nbformat_minor": 5
}
